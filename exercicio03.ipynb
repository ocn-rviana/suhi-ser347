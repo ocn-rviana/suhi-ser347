{
 "cells": [
  {
   "cell_type": "markdown",
   "metadata": {},
   "source": [
    "<h1 style=\"text-align: center;\" markdown=\"1\">SER-347 - Introdução à Programação para Sensoriamento Remoto</h1>\n",
    "<h3 style=\"text-align: center;\" markdown=\"3\">Pós-Graduação em Sensoriamento Remoto (Mestrado)</h3>\n",
    "<hr style=\\\"border:2px solid #0077b9;\\\">\n",
    "<h3 style=\"text-align: center;\" markdown=\"3\">Resolução do Exercício 03</h3>\n",
    "<p style=\"text-align: right;\"><i>Rafael Duarte Viana</i></p>"
   ]
  },
  {
   "cell_type": "code",
   "execution_count": 1,
   "metadata": {
    "collapsed": false
   },
   "outputs": [
    {
     "data": {
      "text/html": [
       "<script>\n",
       "code_show=true; \n",
       "function code_toggle() {\n",
       " if (code_show){\n",
       " $('div.input').hide();\n",
       " } else {\n",
       " $('div.input').show();\n",
       " }\n",
       " code_show = !code_show\n",
       "} \n",
       "$( document ).ready(code_toggle);\n",
       "</script>\n",
       "<form action=\"javascript:code_toggle()\"><input type=\"submit\" value=\"Clique aqui para mostrar/ocultar o código Python.\"></form>"
      ],
      "text/plain": [
       "<IPython.core.display.HTML object>"
      ]
     },
     "execution_count": 1,
     "metadata": {},
     "output_type": "execute_result"
    }
   ],
   "source": [
    "from IPython.display import HTML\n",
    "\n",
    "HTML('''<script>\n",
    "code_show=true; \n",
    "function code_toggle() {\n",
    " if (code_show){\n",
    " $('div.input').hide();\n",
    " } else {\n",
    " $('div.input').show();\n",
    " }\n",
    " code_show = !code_show\n",
    "} \n",
    "$( document ).ready(code_toggle);\n",
    "</script>\n",
    "<form action=\"javascript:code_toggle()\"><input type=\"submit\" value=\"Clique aqui para mostrar/ocultar o código Python.\"></form>''')"
   ]
  },
  {
   "cell_type": "markdown",
   "metadata": {},
   "source": [
    "<h2 style=\"text-align: center;\" markdown=\"3\">Problema</h2>\n",
    "\n",
    "Crie funções para computar cada uma das seguintes séries:"
   ]
  },
  {
   "cell_type": "markdown",
   "metadata": {},
   "source": [
    "- Série de Lucas\n",
    "\n",
    "A sequência de Lucas [(1)](https://en.wikipedia.org/wiki/Lucas_number) pode ser definida como se segue:\n",
    "\n",
    "\\begin{equation*} \n",
    "  L_n =\n",
    "  \\begin{cases}\n",
    "    2               & \\text{se } n = 0; \\\\\n",
    "    1               & \\text{se } n = 1; \\\\\n",
    "    L_{n-1}+L_{n-2} & \\text{se } n > 1. \\\\\n",
    "   \\end{cases}\n",
    "\\end{equation*}"
   ]
  },
  {
   "cell_type": "code",
   "execution_count": 2,
   "metadata": {
    "collapsed": true
   },
   "outputs": [],
   "source": [
    "def lucas(n):\n",
    "    # Toma como argumento o número de elementos n a ser calculado\n",
    "    sequence = []    # Inicializa uma lista para armazenar a sequência\n",
    "\n",
    "    if n > 1:\n",
    "        # Inicializa os dois primeiros termos da série\n",
    "        L0 = 2; L1 = 1\n",
    "        sequence.append(L0)\n",
    "        sequence.append(L1)\n",
    "\n",
    "        # Inicializa o próximo termo da série a ser calculado\n",
    "        i = 2\n",
    "\n",
    "        while i <= n:\n",
    "            L = L0 + L1             # Fórmula da série para n > 1\n",
    "            sequence.append(L)\n",
    "            L0 = L1\n",
    "            L1 = L\n",
    "            i += 1                  # Incrementa o próximo termo\n",
    "    \n",
    "    return sequence"
   ]
  },
  {
   "cell_type": "markdown",
   "metadata": {},
   "source": [
    "- Série de Pell\n",
    "\n",
    "A sequência de Pell [(2)](https://en.wikipedia.org/wiki/Pell_number) pode ser definida como se segue:\n",
    "\n",
    "\\begin{equation*} \n",
    "  P_n=\n",
    "    \\begin{cases}\n",
    "      0               &\\text{se } n = 0; \\\\\n",
    "      1               &\\text{se } n = 1; \\\\\n",
    "      2P_{n-1}+P_{n-2}&\\text{se } n > 1. \\\\\n",
    "    \\end{cases}\n",
    "\\end{equation*}"
   ]
  },
  {
   "cell_type": "code",
   "execution_count": 3,
   "metadata": {
    "collapsed": true
   },
   "outputs": [],
   "source": [
    "def pell(n):\n",
    "    # Toma como argumento o número de elementos n a ser calculado\n",
    "    sequence = []    # Inicializa uma lista para armazenar a sequência\n",
    "\n",
    "    if n > 1:\n",
    "        # Inicializa os dois primeiros termos da série\n",
    "        P0 = 0; P1 = 1\n",
    "        sequence.append(P0)\n",
    "        sequence.append(P1)\n",
    "\n",
    "        # Inicializa o próximo termo da série a ser calculado\n",
    "        i = 2\n",
    "\n",
    "        while i <= n:\n",
    "            P = 2*P1 + P0             # Fórmula da série para n > 1\n",
    "            sequence.append(P)\n",
    "            P0 = P1\n",
    "            P1 = P\n",
    "            i += 1                  # Incrementa o próximo termo\n",
    "    \n",
    "    return sequence"
   ]
  },
  {
   "cell_type": "markdown",
   "metadata": {},
   "source": [
    "- Série Triangular\n",
    "\n",
    "A sequência Triangular [(3)](https://en.wikipedia.org/wiki/Triangular_number) pode ser definida como se segue:\n",
    "\n",
    "\\begin{equation*} \n",
    "  T_n= \\frac{n(n+1)}{2}\n",
    "\\end{equation*}"
   ]
  },
  {
   "cell_type": "code",
   "execution_count": 4,
   "metadata": {
    "collapsed": true
   },
   "outputs": [],
   "source": [
    "def triangular(n):\n",
    "    # Toma como argumento o número de elementos n a ser calculado\n",
    "    sequence = []    # Inicializa uma lista para armazenar a sequência\n",
    "\n",
    "    # Inicializa o primeiro termo da sequência a ser calculado\n",
    "    i = 0\n",
    "\n",
    "    while i < n:\n",
    "        T = (i*(i+1))//2             # Fórmula da série para n >= 0\n",
    "        i += 1                       # Incrementa o próximo termo\n",
    "        sequence.append(T)\n",
    "    \n",
    "    return sequence"
   ]
  },
  {
   "cell_type": "markdown",
   "metadata": {},
   "source": [
    "- Série Quadrada\n",
    "\n",
    "A sequência Quadrada [(4)](https://en.wikipedia.org/wiki/Square_number) pode ser definida como se segue:\n",
    "\n",
    "\\begin{equation*} \n",
    "  S_n= n^{2}\n",
    "\\end{equation*}"
   ]
  },
  {
   "cell_type": "code",
   "execution_count": 5,
   "metadata": {
    "collapsed": true
   },
   "outputs": [],
   "source": [
    "def square(n):\n",
    "    # Toma como argumento o número de elementos n a ser calculado\n",
    "    sequence = []    # Inicializa uma lista para armazenar a sequência\n",
    "\n",
    "    # Inicializa o primeiro termo da sequência a ser calculado\n",
    "    i = 1\n",
    "\n",
    "    while i <= n:\n",
    "        S = i ** 2                   # Fórmula da série para n >= 1\n",
    "        i += 1                       # Incrementa o próximo termo\n",
    "        sequence.append(S)\n",
    "    \n",
    "    return sequence"
   ]
  },
  {
   "cell_type": "markdown",
   "metadata": {},
   "source": [
    "- Série Pentagonal\n",
    "\n",
    "A série Pentagonal [(5)](https://en.wikipedia.org/wiki/Pentagonal_number) pode ser definida como se segue:\n",
    "\n",
    "\\begin{equation*} \n",
    "  P_n = \\frac{3n^2-n}{2}\n",
    "\\end{equation*}"
   ]
  },
  {
   "cell_type": "code",
   "execution_count": 6,
   "metadata": {
    "collapsed": true
   },
   "outputs": [],
   "source": [
    "def pentagonal(n):\n",
    "    # Toma como argumento o número de elementos n a ser calculado\n",
    "    sequence = []    # Inicializa uma lista para armazenar a sequência\n",
    "\n",
    "    # Inicializa o primeiro termo da série a ser calculado\n",
    "    i = 1\n",
    "\n",
    "    while i <= n:\n",
    "        P = (3 * (i ** 2) - i) // 2      # Fórmula da série para n >= 1\n",
    "        sequence.append(P)\n",
    "        i += 1                           # Incrementa o próximo termo\n",
    "    \n",
    "    return sequence"
   ]
  },
  {
   "cell_type": "markdown",
   "metadata": {},
   "source": [
    "<h2 style=\"text-align: center;\" markdown=\"3\">Solução</h2>\n",
    "\n",
    "Digitando abaixo o número de elementos a ser calculado para cada série:"
   ]
  },
  {
   "cell_type": "code",
   "execution_count": 7,
   "metadata": {
    "collapsed": false
   },
   "outputs": [
    {
     "name": "stdout",
     "output_type": "stream",
     "text": [
      "Número de Elementos: 11\n"
     ]
    }
   ],
   "source": [
    "n = int(input(\"Número de Elementos: \"))"
   ]
  },
  {
   "cell_type": "markdown",
   "metadata": {},
   "source": [
    "Temos que:"
   ]
  },
  {
   "cell_type": "code",
   "execution_count": 8,
   "metadata": {
    "collapsed": false
   },
   "outputs": [
    {
     "name": "stdout",
     "output_type": "stream",
     "text": [
      "Termo\tda Série de Lucas\n",
      "==============================\n",
      "1\t2\n",
      "2\t1\n",
      "3\t3\n",
      "4\t4\n",
      "5\t7\n",
      "6\t11\n",
      "7\t18\n",
      "8\t29\n",
      "9\t47\n",
      "10\t76\n",
      "11\t123\n",
      "\n",
      "Termo\tda Série de Pell\n",
      "==============================\n",
      "1\t0\n",
      "2\t1\n",
      "3\t2\n",
      "4\t5\n",
      "5\t12\n",
      "6\t29\n",
      "7\t70\n",
      "8\t169\n",
      "9\t408\n",
      "10\t985\n",
      "11\t2378\n",
      "\n",
      "Termo\tda Série Triangular\n",
      "==============================\n",
      "1\t0\n",
      "2\t1\n",
      "3\t3\n",
      "4\t6\n",
      "5\t10\n",
      "6\t15\n",
      "7\t21\n",
      "8\t28\n",
      "9\t36\n",
      "10\t45\n",
      "11\t55\n",
      "\n",
      "Termo\tda Série Quadrada\n",
      "==============================\n",
      "1\t1\n",
      "2\t4\n",
      "3\t9\n",
      "4\t16\n",
      "5\t25\n",
      "6\t36\n",
      "7\t49\n",
      "8\t64\n",
      "9\t81\n",
      "10\t100\n",
      "11\t121\n",
      "\n",
      "Termo\tda Série Pentagonal\n",
      "==============================\n",
      "1\t1\n",
      "2\t5\n",
      "3\t12\n",
      "4\t22\n",
      "5\t35\n",
      "6\t51\n",
      "7\t70\n",
      "8\t92\n",
      "9\t117\n",
      "10\t145\n",
      "11\t176\n",
      "\n"
     ]
    }
   ],
   "source": [
    "# Cria uma lista com o nome das séries\n",
    "series = [\"de Lucas\", \"de Pell\", \"Triangular\", \"Quadrada\", \"Pentagonal\"]\n",
    "\n",
    "# Obtêm cada série e armazena como uma lista\n",
    "lucas_seq = lucas(n)\n",
    "pell_seq  = pell(n)\n",
    "trian_seq = triangular(n)\n",
    "squar_seq = square(n)\n",
    "penta_seq = pentagonal(n)\n",
    "\n",
    "# Armazena todas as séries em uma única seq\n",
    "all_seq = [lucas_seq, pell_seq, trian_seq, squar_seq, penta_seq]\n",
    "\n",
    "# Imprime todas as séries\n",
    "for num_seq in range(0, len(series)):\n",
    "    print(\"Termo\\tda Série {}\".format(series[num_seq]))\n",
    "    print(30*\"=\")\n",
    "    for index_elem in range(0, n):\n",
    "        print(\"{}\\t{}\".format(index_elem + 1, all_seq[num_seq][index_elem]))\n",
    "    print()"
   ]
  }
 ],
 "metadata": {
  "kernelspec": {
   "display_name": "Python (geospatial)",
   "language": "python",
   "name": "geospatial"
  },
  "language_info": {
   "codemirror_mode": {
    "name": "ipython",
    "version": 3
   },
   "file_extension": ".py",
   "mimetype": "text/x-python",
   "name": "python",
   "nbconvert_exporter": "python",
   "pygments_lexer": "ipython3",
   "version": "3.6.5"
  }
 },
 "nbformat": 4,
 "nbformat_minor": 2
}
