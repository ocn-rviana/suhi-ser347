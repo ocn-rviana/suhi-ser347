{
 "cells": [
  {
   "cell_type": "markdown",
   "metadata": {},
   "source": [
    "<h1 style=\"text-align: center;\" markdown=\"1\">SER-347 - Introdução à Programação para Sensoriamento Remoto</h1>\n",
    "<h3 style=\"text-align: center;\" markdown=\"3\">Pós-Graduação em Sensoriamento Remoto (Mestrado)</h3>\n",
    "<hr style=\\\"border:2px solid #0077b9;\\\">\n",
    "<h3 style=\"text-align: center;\" markdown=\"3\">Resolução do Exercício 07 - Aula 16</h3>\n",
    "<p style=\"text-align: right;\"><i>Rafael Duarte Viana</i></p>"
   ]
  },
  {
   "cell_type": "markdown",
   "metadata": {},
   "source": [
    "<h2 style=\"text-align: center;\" markdown=\"3\">Problema</h2>\n",
    "\n",
    "Faça os exercícios propostos nas aulas 15, <b>16</b>, 17 (Parte I) e 20, na forma de Jupyter Notebooks (um Notebook para cada aula, contendo as soluções dos exercícios propostos).\n",
    "\n",
    "<h2 style=\"text-align: center;\" markdown=\"3\">Solução</h2>"
   ]
  },
  {
   "cell_type": "code",
   "execution_count": 33,
   "metadata": {
    "collapsed": false
   },
   "outputs": [
    {
     "data": {
      "text/html": [
       "<script>\n",
       "code_show=true; \n",
       "function code_toggle() {\n",
       " if (code_show){\n",
       " $('div.input').hide();\n",
       " } else {\n",
       " $('div.input').show();\n",
       " }\n",
       " code_show = !code_show\n",
       "} \n",
       "$( document ).ready(code_toggle);\n",
       "</script>\n",
       "<form action=\"javascript:code_toggle()\"><input type=\"submit\" value=\"Clique aqui para mostrar/ocultar o código Python.\"></form>"
      ],
      "text/plain": [
       "<IPython.core.display.HTML object>"
      ]
     },
     "execution_count": 33,
     "metadata": {},
     "output_type": "execute_result"
    }
   ],
   "source": [
    "from IPython.display import HTML\n",
    "\n",
    "HTML('''<script>\n",
    "code_show=true; \n",
    "function code_toggle() {\n",
    " if (code_show){\n",
    " $('div.input').hide();\n",
    " } else {\n",
    " $('div.input').show();\n",
    " }\n",
    " code_show = !code_show\n",
    "} \n",
    "$( document ).ready(code_toggle);\n",
    "</script>\n",
    "<form action=\"javascript:code_toggle()\"><input type=\"submit\" value=\"Clique aqui para mostrar/ocultar o código Python.\"></form>''')"
   ]
  },
  {
   "cell_type": "markdown",
   "metadata": {},
   "source": [
    "### Exercício 1 - Criar uma lista com nome dos arquivos do diretorio dados_exemplo que foi criado com a extração do arquivo compactado com o mesmo nome, e imprimir cada nome dos arquivos com extensão .bin"
   ]
  },
  {
   "cell_type": "code",
   "execution_count": 34,
   "metadata": {
    "collapsed": false
   },
   "outputs": [
    {
     "name": "stdout",
     "output_type": "stream",
     "text": [
      "foc_sev_20161010.bin\n",
      "foc_sev_20161011.bin\n",
      "foc_sev_20161012.bin\n",
      "foc_sev_20161013.bin\n",
      "foc_sev_20161014.bin\n",
      "foc_sev_20161015.bin\n"
     ]
    }
   ],
   "source": [
    "import os\n",
    "\n",
    "# Cria uma variavel que armazena o nome do diretorio com os dados\n",
    "dir_dados = os.path.join(os.getcwd(),'dados_exemplo')\n",
    "\n",
    "files_dir = os.listdir(dir_dados)\n",
    "files_dir.sort()\n",
    "\n",
    "for file in files_dir:\n",
    "    if \".bin\" in file:\n",
    "        print(file)"
   ]
  },
  {
   "cell_type": "markdown",
   "metadata": {},
   "source": [
    "### Exercício 2 - Criar uma copia do arquivo modelo.hdr para cada arquivo foc_sev*bin, de tal maneira que no diretorio dos dados exista um par de arquivos para cada data, por exemplo:"
   ]
  },
  {
   "cell_type": "code",
   "execution_count": 35,
   "metadata": {
    "collapsed": false
   },
   "outputs": [
    {
     "name": "stdout",
     "output_type": "stream",
     "text": [
      "Arquivo foc_sev_20161010.hdr criado!\n",
      "Arquivo foc_sev_20161011.hdr criado!\n",
      "Arquivo foc_sev_20161012.hdr criado!\n",
      "Arquivo foc_sev_20161013.hdr criado!\n",
      "Arquivo foc_sev_20161014.hdr criado!\n",
      "Arquivo foc_sev_20161015.hdr criado!\n"
     ]
    }
   ],
   "source": [
    "import shutil\n",
    "\n",
    "for file in files_dir:\n",
    "    if \".bin\" in file:\n",
    "        shutil.copyfile(os.path.join(dir_dados,\"modelo.hdr\"),os.path.join(dir_dados,file[:-4] + \".hdr\"))\n",
    "        print(\"Arquivo {} criado!\".format(file[:-4] + \".hdr\"))"
   ]
  },
  {
   "cell_type": "markdown",
   "metadata": {},
   "source": [
    "### Exercício 3 - Desenvolva um trecho de código para imprimir a seguinte string:\n",
    "<h4 style=\"text-align: center;\" markdown=\"4\">\"O arquivo foc_sev_20161010.bin é do dia juliano 284 do ano 2016\"</h4>\n",
    "### sendo que o nome do arquivo, o dia juliano e o ano devem ser extraídos de cada arquivo do diretório de trabalho dos arquivos de exemplo."
   ]
  },
  {
   "cell_type": "code",
   "execution_count": 36,
   "metadata": {
    "collapsed": false
   },
   "outputs": [
    {
     "name": "stdout",
     "output_type": "stream",
     "text": [
      "O arquivo foc_sev_20161010.bin é do dia juliano 284 do ano 2016\n",
      "O arquivo foc_sev_20161010.hdr é do dia juliano 284 do ano 2016\n",
      "O arquivo foc_sev_20161011.bin é do dia juliano 285 do ano 2016\n",
      "O arquivo foc_sev_20161011.hdr é do dia juliano 285 do ano 2016\n",
      "O arquivo foc_sev_20161012.bin é do dia juliano 286 do ano 2016\n",
      "O arquivo foc_sev_20161012.hdr é do dia juliano 286 do ano 2016\n",
      "O arquivo foc_sev_20161013.bin é do dia juliano 287 do ano 2016\n",
      "O arquivo foc_sev_20161013.hdr é do dia juliano 287 do ano 2016\n",
      "O arquivo foc_sev_20161014.bin é do dia juliano 288 do ano 2016\n",
      "O arquivo foc_sev_20161014.hdr é do dia juliano 288 do ano 2016\n",
      "O arquivo foc_sev_20161015.bin é do dia juliano 289 do ano 2016\n",
      "O arquivo foc_sev_20161015.hdr é do dia juliano 289 do ano 2016\n"
     ]
    }
   ],
   "source": [
    "import datetime as dt\n",
    "\n",
    "files_dir = os.listdir(dir_dados)\n",
    "files_dir.sort()\n",
    "\n",
    "files_dir.remove(\"modelo.hdr\")\n",
    "\n",
    "sufix = [\".bin\",\".hdr\"]\n",
    "\n",
    "for file in files_dir:\n",
    "    for end in sufix:\n",
    "        if end in file:\n",
    "            ano = int(file[8:12])\n",
    "            mes = int(file[12:14])\n",
    "            dia = int(file[14:16])\n",
    "            \n",
    "            data = dt.date(ano,mes,dia)\n",
    "            tt = data.timetuple()\n",
    "            dj = tt.tm_yday\n",
    "            \n",
    "            print(\"O arquivo {} é do dia juliano {} do ano {}\".format(file,dj,ano))"
   ]
  },
  {
   "cell_type": "code",
   "execution_count": null,
   "metadata": {
    "collapsed": true
   },
   "outputs": [],
   "source": []
  }
 ],
 "metadata": {
  "kernelspec": {
   "display_name": "Python (geospatial)",
   "language": "python",
   "name": "geospatial"
  },
  "language_info": {
   "codemirror_mode": {
    "name": "ipython",
    "version": 3
   },
   "file_extension": ".py",
   "mimetype": "text/x-python",
   "name": "python",
   "nbconvert_exporter": "python",
   "pygments_lexer": "ipython3",
   "version": "3.6.5"
  }
 },
 "nbformat": 4,
 "nbformat_minor": 2
}
