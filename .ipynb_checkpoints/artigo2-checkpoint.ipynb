{
 "cells": [
  {
   "cell_type": "markdown",
   "metadata": {},
   "source": [
    "<h2 style=\"text-align: left; color: SlateGray;\\\" markdown=\"3\">Pós-Graduação em Sensoriamento Remoto (Mestrado)<br>\n",
    "SER-347 - Introdução à Programação para Sensoriamento Remoto<br>\n",
    "Trabalho de Conclusão de Disciplina</h2>\n",
    "<hr style=\\\"border:2px solid #0077b9;\\\">\n",
    "<h2 style=\"text-align: center; font-variant: small-caps;\">Análise da variabilidade espaço-temporal do fenômeno de ilhas\n",
    "de calor urbano na cidade de Fortaleza/CE</h2>\n",
    "\n",
    "<p style=\"text-align: center;\">Marcelo Cardoso da Silva Bandoria¹, Rafael Duarte Viana¹</p>\n",
    "\n",
    "<p style=\"text-align: center;\">¹Instituto Nacional de Pesquisas Espaciais - INPE<br/>\n",
    "Caixa Postal 515 - 12227-010 - São José dos Campos - SP, Brasil<br/>\n",
    "{marcelo.bandoria,rafael.viana}@inpe.br</p>"
   ]
  },
  {
   "cell_type": "markdown",
   "metadata": {
    "collapsed": true
   },
   "source": [
    "### 1. INTRODUÇÃO\n",
    "<p style=\"text-align: justify;\">Nas últimas décadas, o rápido crescimento das cidades, em diversas escalas trouxeram efeitos adversos ao ambiente como um todo, sobretudo ao microclima, e diversas consequências e efeitos diretos na saúde, podem estar associados também a essa variação, afetando a população que vive em áreas densamente povoadas. Dentre tantos problemas, destacamos o chamado efeito de “ilha de calor urbana” (UHI – Urban Heat Islands Effects), que pode ser descrito como um fenômeno em que as temperaturas nas áreas urbanas são mais altas do que nas áreas rurais próximas.</p>\n",
    "<p style=\"text-align: justify;\">&nbsp;&nbsp;&nbsp;&nbsp;A possibilidade de estudar tal fenômeno baseado em sensoriamento remoto revelou bons resultados pois as “ilhas de calor” (UHI) que possui propriedades diurnas e sazonais evidentes, assim baseado em temperaturas de superfície terrestre (LST – Land Surface Temperature) derivados de dados NOAA AVHRR, Streutker (2002) e recentemente MODIS, descobriu-se que o a magnitude do (UHI) noturno no Texas, Houston, foi correlacionada com a temperatura da superfície rural (RST). (Ji Zhou, et.al, 2010) ; (LI et al., 2018).</p>\n",
    "<p style=\"text-align: justify;\">&nbsp;&nbsp;&nbsp;&nbsp;No entanto, diferenças nos resultados, foram apontadas quando o número de imagens foi aumentado nas análises. Dessa forma surge a necessidade de se utilizar grandes quantidades de informações espaço-temporais para verificar a distribuição da temperatura na superfície e seu comportamento durante certo intervalo de tempo para atender a distribuição e comportamento da temperatura, associada a áreas de vegetação, para o planejamento urbano e o desenvolvimento administrativo dos recursos naturais e sociais da população.</p>\n",
    "<p style=\"text-align: justify;\">&nbsp;&nbsp;&nbsp;&nbsp;Diante disso o objetivo deste trabalho é apoiado na linguagem de programação Python e ferramentas associadas de computação, iniciar um levantamento no processo de investigação das relações entre o índice de ilhas de calor (UHI) e seu comportamento na área metropolitana de Fortaleza – CE, por meio da obtenção de dados do sensor (MODIS –  Moderate Resolution Imaging Spectroradiometer) desenvolvido pela NASA  abordo dos satélites AQUA e TERRA. Na discussão da literatura foi visto que sua capacidade de resolução e associada a necessidade de obtermos dados diários, melhora significativamente a investição do fenômeno, por meio da correlação da temperatura de áreas urbanas e rurais, derivadas da série temporal Terra/Aqua MODIS data durante o período de 2003 até 2012, correlacionando dados de diuturnamente e comparando-os para obtenção da variação do efeito da ilha de calor. Sabemos que as dificuldades em realizar estudos temporais em SIG’s limitam a obtenção de resultados, desta forma a utilização de Python representa uma saída possível para gerenciar e agilizar a organização dos dados e obtenção de resultados. </p>\n",
    "<p style=\"text-align: justify;\">&nbsp;&nbsp;&nbsp;&nbsp;Em diversos estudos evidencia-se que obter a variação sazonal desse parâmetro de temperatura, cruzando com dados de vegetação em escala adequada pode ser uma ferramenta poderosa para a tomada de decisão no desenvolvimento territorial, podendo ser referência para políticas públicas e de administração de governos municipais e estaduais em diversas cidades, portanto, os resultados servem para a tomada de decisão e afeta diretamente na vida da população em diversos aspectos da saúde e qualidade de vida em geral.<p>\n"
   ]
  },
  {
   "cell_type": "markdown",
   "metadata": {},
   "source": [
    "### 2. DADOS E MÉTODOS\n",
    "\n",
    "<p style=\"text-align: justify;\">&nbsp;&nbsp;&nbsp;&nbsp;Para a realização do trabalho, foram utilizados os pacotes indicados na Tabela 1.<p>\n",
    "\n",
    "<table>\n",
    "     <caption  style=\"text-align: center;\">Tabela 1: Módulos Python utilizados no programa</caption>\n",
    "    <thead>\n",
    "        <tr>\n",
    "            <th style=\"text-align: center;\">Tipo da Biblioteca</th>\n",
    "            <th style=\"text-align: center;\">Sist. Oper.</th>\n",
    "            <th style=\"text-align: center;\">Numérica</th>\n",
    "            <th style=\"text-align: center;\">Espaciais</th>            \n",
    "            <th style=\"text-align: center;\">Gráficas</th>            \n",
    "        </tr>\n",
    "    </thead>\n",
    "    <tbody>\n",
    "        <tr>\n",
    "            <td style=\"text-align: center;\">Nome do Pacote</td>\n",
    "            <td style=\"text-align: center;\">os<br />calendar</td>\n",
    "            <td style=\"text-align: center;\">Numpy<br />Pandas<br />SciPy</td>\n",
    "            <td style=\"text-align: center;\">GDAL<br />PyPROJ<br />Fiona</td>\n",
    "            <td style=\"text-align: center;\">MatPlotLib<br />descartes</td>\n",
    "        </tr>\n",
    "    </tbody>\n",
    "</table>\n",
    "</span>"
   ]
  },
  {
   "cell_type": "code",
   "execution_count": 1,
   "metadata": {
    "collapsed": false
   },
   "outputs": [
    {
     "ename": "ImportError",
     "evalue": "/home/rafael/anaconda3/lib/python3.6/site-packages/osgeo/../../../libgdal.so.20: undefined symbol: _ZN11xercesc_3_211InputSource11setEncodingEPKDs",
     "output_type": "error",
     "traceback": [
      "\u001b[0;31m---------------------------------------------------------------------------\u001b[0m",
      "\u001b[0;31mImportError\u001b[0m                               Traceback (most recent call last)",
      "\u001b[0;32m<ipython-input-1-45adc814eebb>\u001b[0m in \u001b[0;36m<module>\u001b[0;34m()\u001b[0m\n\u001b[1;32m     13\u001b[0m \u001b[0;34m\u001b[0m\u001b[0m\n\u001b[1;32m     14\u001b[0m \u001b[0;31m# Bibliotecas Geográficas\u001b[0m\u001b[0;34m\u001b[0m\u001b[0;34m\u001b[0m\u001b[0m\n\u001b[0;32m---> 15\u001b[0;31m \u001b[0;32mfrom\u001b[0m \u001b[0mosgeo\u001b[0m \u001b[0;32mimport\u001b[0m \u001b[0mgdal\u001b[0m\u001b[0;34m\u001b[0m\u001b[0m\n\u001b[0m\u001b[1;32m     16\u001b[0m \u001b[0;32mfrom\u001b[0m \u001b[0mpyproj\u001b[0m \u001b[0;32mimport\u001b[0m \u001b[0mProj\u001b[0m\u001b[0;34m,\u001b[0m \u001b[0mtransform\u001b[0m\u001b[0;34m\u001b[0m\u001b[0m\n\u001b[1;32m     17\u001b[0m \u001b[0;32mimport\u001b[0m \u001b[0mfiona\u001b[0m\u001b[0;34m\u001b[0m\u001b[0m\n",
      "\u001b[0;32m/home/rafael/anaconda3/lib/python3.6/site-packages/osgeo/__init__.py\u001b[0m in \u001b[0;36m<module>\u001b[0;34m()\u001b[0m\n\u001b[1;32m     19\u001b[0m                 \u001b[0mfp\u001b[0m\u001b[0;34m.\u001b[0m\u001b[0mclose\u001b[0m\u001b[0;34m(\u001b[0m\u001b[0;34m)\u001b[0m\u001b[0;34m\u001b[0m\u001b[0m\n\u001b[1;32m     20\u001b[0m             \u001b[0;32mreturn\u001b[0m \u001b[0m_mod\u001b[0m\u001b[0;34m\u001b[0m\u001b[0m\n\u001b[0;32m---> 21\u001b[0;31m     \u001b[0m_gdal\u001b[0m \u001b[0;34m=\u001b[0m \u001b[0mswig_import_helper\u001b[0m\u001b[0;34m(\u001b[0m\u001b[0;34m)\u001b[0m\u001b[0;34m\u001b[0m\u001b[0m\n\u001b[0m\u001b[1;32m     22\u001b[0m     \u001b[0;32mdel\u001b[0m \u001b[0mswig_import_helper\u001b[0m\u001b[0;34m\u001b[0m\u001b[0m\n\u001b[1;32m     23\u001b[0m \u001b[0;32melse\u001b[0m\u001b[0;34m:\u001b[0m\u001b[0;34m\u001b[0m\u001b[0m\n",
      "\u001b[0;32m/home/rafael/anaconda3/lib/python3.6/site-packages/osgeo/__init__.py\u001b[0m in \u001b[0;36mswig_import_helper\u001b[0;34m()\u001b[0m\n\u001b[1;32m     15\u001b[0m         \u001b[0;32mif\u001b[0m \u001b[0mfp\u001b[0m \u001b[0;32mis\u001b[0m \u001b[0;32mnot\u001b[0m \u001b[0;32mNone\u001b[0m\u001b[0;34m:\u001b[0m\u001b[0;34m\u001b[0m\u001b[0m\n\u001b[1;32m     16\u001b[0m             \u001b[0;32mtry\u001b[0m\u001b[0;34m:\u001b[0m\u001b[0;34m\u001b[0m\u001b[0m\n\u001b[0;32m---> 17\u001b[0;31m                 \u001b[0m_mod\u001b[0m \u001b[0;34m=\u001b[0m \u001b[0mimp\u001b[0m\u001b[0;34m.\u001b[0m\u001b[0mload_module\u001b[0m\u001b[0;34m(\u001b[0m\u001b[0;34m'_gdal'\u001b[0m\u001b[0;34m,\u001b[0m \u001b[0mfp\u001b[0m\u001b[0;34m,\u001b[0m \u001b[0mpathname\u001b[0m\u001b[0;34m,\u001b[0m \u001b[0mdescription\u001b[0m\u001b[0;34m)\u001b[0m\u001b[0;34m\u001b[0m\u001b[0m\n\u001b[0m\u001b[1;32m     18\u001b[0m             \u001b[0;32mfinally\u001b[0m\u001b[0;34m:\u001b[0m\u001b[0;34m\u001b[0m\u001b[0m\n\u001b[1;32m     19\u001b[0m                 \u001b[0mfp\u001b[0m\u001b[0;34m.\u001b[0m\u001b[0mclose\u001b[0m\u001b[0;34m(\u001b[0m\u001b[0;34m)\u001b[0m\u001b[0;34m\u001b[0m\u001b[0m\n",
      "\u001b[0;32m/home/rafael/anaconda3/lib/python3.6/imp.py\u001b[0m in \u001b[0;36mload_module\u001b[0;34m(name, file, filename, details)\u001b[0m\n\u001b[1;32m    241\u001b[0m                 \u001b[0;32mreturn\u001b[0m \u001b[0mload_dynamic\u001b[0m\u001b[0;34m(\u001b[0m\u001b[0mname\u001b[0m\u001b[0;34m,\u001b[0m \u001b[0mfilename\u001b[0m\u001b[0;34m,\u001b[0m \u001b[0mopened_file\u001b[0m\u001b[0;34m)\u001b[0m\u001b[0;34m\u001b[0m\u001b[0m\n\u001b[1;32m    242\u001b[0m         \u001b[0;32melse\u001b[0m\u001b[0;34m:\u001b[0m\u001b[0;34m\u001b[0m\u001b[0m\n\u001b[0;32m--> 243\u001b[0;31m             \u001b[0;32mreturn\u001b[0m \u001b[0mload_dynamic\u001b[0m\u001b[0;34m(\u001b[0m\u001b[0mname\u001b[0m\u001b[0;34m,\u001b[0m \u001b[0mfilename\u001b[0m\u001b[0;34m,\u001b[0m \u001b[0mfile\u001b[0m\u001b[0;34m)\u001b[0m\u001b[0;34m\u001b[0m\u001b[0m\n\u001b[0m\u001b[1;32m    244\u001b[0m     \u001b[0;32melif\u001b[0m \u001b[0mtype_\u001b[0m \u001b[0;34m==\u001b[0m \u001b[0mPKG_DIRECTORY\u001b[0m\u001b[0;34m:\u001b[0m\u001b[0;34m\u001b[0m\u001b[0m\n\u001b[1;32m    245\u001b[0m         \u001b[0;32mreturn\u001b[0m \u001b[0mload_package\u001b[0m\u001b[0;34m(\u001b[0m\u001b[0mname\u001b[0m\u001b[0;34m,\u001b[0m \u001b[0mfilename\u001b[0m\u001b[0;34m)\u001b[0m\u001b[0;34m\u001b[0m\u001b[0m\n",
      "\u001b[0;32m/home/rafael/anaconda3/lib/python3.6/imp.py\u001b[0m in \u001b[0;36mload_dynamic\u001b[0;34m(name, path, file)\u001b[0m\n\u001b[1;32m    341\u001b[0m         spec = importlib.machinery.ModuleSpec(\n\u001b[1;32m    342\u001b[0m             name=name, loader=loader, origin=path)\n\u001b[0;32m--> 343\u001b[0;31m         \u001b[0;32mreturn\u001b[0m \u001b[0m_load\u001b[0m\u001b[0;34m(\u001b[0m\u001b[0mspec\u001b[0m\u001b[0;34m)\u001b[0m\u001b[0;34m\u001b[0m\u001b[0m\n\u001b[0m\u001b[1;32m    344\u001b[0m \u001b[0;34m\u001b[0m\u001b[0m\n\u001b[1;32m    345\u001b[0m \u001b[0;32melse\u001b[0m\u001b[0;34m:\u001b[0m\u001b[0;34m\u001b[0m\u001b[0m\n",
      "\u001b[0;31mImportError\u001b[0m: /home/rafael/anaconda3/lib/python3.6/site-packages/osgeo/../../../libgdal.so.20: undefined symbol: _ZN11xercesc_3_211InputSource11setEncodingEPKDs"
     ]
    }
   ],
   "source": [
    "\"\"\"-------------------------------------------------------------\n",
    "    IMPORTAÇÃO DE BIBLIOTECAS\n",
    "-------------------------------------------------------------\"\"\"\n",
    "# Bibliotecas OS\n",
    "import os\n",
    "import calendar\n",
    "\n",
    "# Bibliotecas Numéricas\n",
    "import numpy as np\n",
    "import pandas as pd\n",
    "from collections import OrderedDict\n",
    "from scipy.ndimage import zoom\n",
    "\n",
    "# Bibliotecas Geográficas\n",
    "from osgeo import gdal\n",
    "from pyproj import Proj, transform\n",
    "import fiona\n",
    "\n",
    "# Bibliotecas Gráficas\n",
    "import matplotlib.pyplot as plt\n",
    "from descartes import PolygonPatch"
   ]
  },
  {
   "cell_type": "markdown",
   "metadata": {},
   "source": [
    "O instrumento MODIS está a bordo dos satélites Aqua e Terra. O satélite Terra adquire imagens às 10:30 e 22:30h no horário solar local, enquanto o satélite Aqua adquire imagens às 1:30 e 13:30h. Para este estudo, foram utilizados os produtos de 8-dias de LST/emissividade do MODIS Terra/Aqua (MOD11A2 e MYD11A2, respectivamente) nas versões V006 durante o período entre 2003-2012 para caracterizar a SHUIs. A resolução da LST é de 1000m."
   ]
  },
  {
   "cell_type": "code",
   "execution_count": null,
   "metadata": {
    "collapsed": true
   },
   "outputs": [],
   "source": [
    "\"\"\"-------------------------------------------------------------\n",
    "    CONFIGURAÇÃO DO RECORTE TEMPORAL\n",
    "-------------------------------------------------------------\"\"\"\n",
    "# Configuração do período temporal da análise\n",
    "# Para ilustração, será usado o mês 09/2003\n",
    "ano_inicio  = 2003\n",
    "ano_final   = 2003\n",
    "mes_inicio  = 9\n",
    "mes_final   = 9"
   ]
  },
  {
   "cell_type": "markdown",
   "metadata": {},
   "source": [
    "Descrição da área de trabalho"
   ]
  },
  {
   "cell_type": "code",
   "execution_count": null,
   "metadata": {
    "collapsed": true
   },
   "outputs": [],
   "source": [
    "\"\"\"-------------------------------------------------------------\n",
    "    CONFIGURAÇÃO DO RECORTE ESPACIAL\n",
    "-------------------------------------------------------------\"\"\"\n",
    "# Configuração do recorte espacial da análise\n",
    "lat_max = -3.6\n",
    "lat_min = lat_max - 0.4\n",
    "lon_min = -38.75\n",
    "lon_max = lon_min + 0.4"
   ]
  },
  {
   "cell_type": "markdown",
   "metadata": {},
   "source": [
    "### 3. Área de Estudo\n",
    "\n",
    "<p style=\"text-align: justify;\"> A cidade de Fortaleza no Ceará, está na região do nordeste brasileiro e possui clima tropical, com verão úmido e inverno seco. A classificação do clima é Aw de acordo com a Köppen e Geiger. A temperatura média anual em Fortaleza é 26.3 °C,e  pluviosidade média anual de 1448 mm. No mês de Novembro há o registro do mês mais quente do ano e Julho é o mês com a mais baixa temperatura ao longo do ano. (https://pt.climate-data.org/location/2031/)</p>\n",
    "\n",
    "![alt text](imgs/area/fortaleza.jpg)"
   ]
  },
  {
   "cell_type": "markdown",
   "metadata": {},
   "source": [
    "Referências Bibliográficas\n",
    "\n",
    "Ji, Z., Li, J, Yue, J. Analysis of urban heat island ( UHI ) in the beijing metropolitan area by time-series modis data. p. 3327–3330, 2010. \n",
    "\n",
    "Li, H. et al. Science of the Total Environment A new method to quantify surface urban heat island intensity. Science of the Total Environment, v. 624, p. 262–272, 2018. \n",
    "\n",
    "Friedl, M. A., and Coauthors, 2002: Global land cover mapping from MODIS: Algorithms and early results. Remote Sens. Environ., 83, 287–302.\n",
    "\n",
    "Jin, M.S., 2012: Developing an Index to Measure Urban Heat Island Effect Using Satellite Land Skin Temperature and Land Cover Observations. J. Climate, 25, 6193–6201\n",
    "\n",
    "Rasul, A., Balzter, H. and Smith, C., 2017: Applying a normalized ratio scale technique to assess influences of urban expansion on land surface temperature of the semi-arid city of Erbil,International Journal of Remote Sensing, 38:13, 3960-3980"
   ]
  },
  {
   "cell_type": "markdown",
   "metadata": {
    "collapsed": true
   },
   "source": []
  },
  {
   "cell_type": "code",
   "execution_count": null,
   "metadata": {
    "collapsed": true
   },
   "outputs": [],
   "source": []
  }
 ],
 "metadata": {
  "kernelspec": {
   "display_name": "Python 3",
   "language": "python",
   "name": "python3"
  },
  "language_info": {
   "codemirror_mode": {
    "name": "ipython",
    "version": 3
   },
   "file_extension": ".py",
   "mimetype": "text/x-python",
   "name": "python",
   "nbconvert_exporter": "python",
   "pygments_lexer": "ipython3",
   "version": "3.6.5"
  }
 },
 "nbformat": 4,
 "nbformat_minor": 2
}
