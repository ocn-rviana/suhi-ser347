{
 "cells": [
  {
   "cell_type": "markdown",
   "metadata": {},
   "source": [
    "<h2 style=\"text-align: left; color: SlateGray;\\\" markdown=\"3\">Pós-Graduação em Sensoriamento Remoto (Mestrado)<br>\n",
    "SER-347 - Introdução à Programação para Sensoriamento Remoto<br>\n",
    "Trabalho de Conclusão de Disciplina</h2>\n",
    "<hr style=\\\"border:2px solid #0077b9;\\\">\n",
    "<h2 style=\"text-align: center; font-variant: small-caps;\">Análise da variabilidade espaço-temporal do fenômeno de ilhas\n",
    "de calor urbano na cidade de Fortaleza/CE</h2>\n",
    "\n",
    "<p style=\"text-align: center;\">Marcelo Cardoso da Silva Bandoria¹, Rafael Duarte Viana¹</p>\n",
    "\n",
    "<p style=\"text-align: center;\">¹Instituto Nacional de Pesquisas Espaciais - INPE<br/>\n",
    "Caixa Postal 515 - 12227-010 - São José dos Campos - SP, Brasil<br/>\n",
    "{marcelo.bandoria,rafael.viana}@inpe.br</p>"
   ]
  },
  {
   "cell_type": "markdown",
   "metadata": {
    "collapsed": true
   },
   "source": [
    "### 1. INTRODUÇÃO\n",
    "<p style=\"text-align: justify;\">Nas últimas décadas, os rápidos desenvolvimentos urbanos em escala global trouxeram muitos efeitos adversos ao ambiente como um todo, sobretudo ao clima, diretamente proporcional ao aumento dos estudos sobre as mudanças climáticas globais e seus efeitos na superfície, além do aspecto social e efeitos diretos na saúde da população que vive em áreas densamente povoadas. Dentre tantos problemas, destacamos neste trabalho um dos mais conhecidos chamado efeito “ilha de calor urbana” (UHI), que pode ser descrito como um fenômeno em que as temperaturas nas áreas urbanas são mais altas do que nas áreas rurais próximas.</p>\n",
    "<p style=\"text-align: justify;\">&nbsp;&nbsp;&nbsp;&nbsp;A possibilidade de estudar tal fenômeno baseado em sensoriamento remoto revelou bons resultados pois as “ilhas de calor” (UHI) tem propriedades diurnas e sazonais evidentes, assim baseado em temperaturas de superfície terrestre (LST) derivados de dados NOAA AVHRR, Streutker (2002) descobriu-se que o a magnitude do (UHI) noturno no Texas, Houston, foi correlacionada com a temperatura da superfície rural (RST). (Ji Zhou, et.al, 2010)(LI et al., 2018)</p>\n",
    "<p style=\"text-align: justify;\">&nbsp;&nbsp;&nbsp;&nbsp;No entanto, diferente conclusão, foi feita quando o número de imagens foi aumentado. Dessa forma surge a necessidade de se utilizar grandes quantidades de informações espaço-temporais para verificar a distribuição da temperatura na superfície e seu comportamento durante certo intervalo de tempo para atender ao planejamento urbano e o desenvolvimento administrativo dos recursos naturais e sociais da população.</p>\n",
    "<p style=\"text-align: justify;\">&nbsp;&nbsp;&nbsp;&nbsp;O objetivo deste trabalho é investigar as relações entre o UHI magnitude na área metropolitana de Fortaleza e o RST próximo baseado em temperaturas de superfície terrestre (LST) derivadas da série temporal Terra/Aqua MODIS data durante o período de  XXXX, correlacionando dados de dia e noite e comparando-os para XXXX.</p>\n",
    "<p style=\"text-align: justify;\">&nbsp;&nbsp;&nbsp;&nbsp;Diversos estudos evidenciam que obter a variação sazonal desse parâmetro de temperatura, cruzando com dados de vegetação em escala adequada pode ser uma ferramenta poderosa para a tomada de decisão no desenvolvimento territorial e que afetam diretamente na vida da população em diversos aspectos da saúde e qualidade de vida em geral.<p>\n"
   ]
  },
  {
   "cell_type": "markdown",
   "metadata": {},
   "source": [
    "## 2. DADOS E MÉTODOS\n",
    "\n",
    "### 2.1 Área de Estudo\n",
    "\n",
    "<p style=\"text-align: justify;\">&nbsp;&nbsp;&nbsp;&nbsp;A primeira parte do trabalho se constituiu na organização dos pacotes e dos diretórios onde seriam armazenados os dados, as figuras e os resultados. A Tabela 1 indica quais pacotes foram utilizados para todo o programa.<p>\n",
    "\n",
    "<table>\n",
    "     <caption  style=\"text-align: center;\">Tabela 1: Pacotes Python utilizados no programa</caption>\n",
    "    <thead>\n",
    "        <tr>\n",
    "            <th style=\"text-align: center;\">Tipo do Pacote</th>\n",
    "            <th style=\"text-align: center;\">Sist. Oper.</th>\n",
    "            <th style=\"text-align: center;\">Numérica</th>\n",
    "            <th style=\"text-align: center;\">Espaciais</th>            \n",
    "            <th style=\"text-align: center;\">Gráficas</th>            \n",
    "        </tr>\n",
    "    </thead>\n",
    "    <tbody>\n",
    "        <tr>\n",
    "            <td style=\"text-align: center;\">Nome do Pacote</td>\n",
    "            <td style=\"text-align: center;\">os<br />calendar</td>\n",
    "            <td style=\"text-align: center;\">Numpy<br />Pandas<br />SciPy</td>\n",
    "            <td style=\"text-align: center;\">GDAL<br />PyPROJ<br />Fiona</td>\n",
    "            <td style=\"text-align: center;\">MatPlotLib<br />descartes</td>\n",
    "        </tr>\n",
    "    </tbody>\n",
    "</table>"
   ]
  },
  {
   "cell_type": "code",
   "execution_count": 2,
   "metadata": {
    "collapsed": false
   },
   "outputs": [],
   "source": [
    "\"\"\"-------------------------------------------------------------\n",
    "    IMPORTAÇÃO DE BIBLIOTECAS\n",
    "-------------------------------------------------------------\"\"\"\n",
    "# Bibliotecas OS\n",
    "import os\n",
    "import calendar\n",
    "\n",
    "# Bibliotecas Numéricas\n",
    "import numpy as np\n",
    "import pandas as pd\n",
    "from collections import OrderedDict\n",
    "from scipy.ndimage import zoom\n",
    "\n",
    "# Bibliotecas Geográficas\n",
    "from osgeo import gdal\n",
    "from pyproj import Proj, transform\n",
    "import fiona\n",
    "\n",
    "# Bibliotecas Gráficas\n",
    "import matplotlib.pyplot as plt\n",
    "from descartes import PolygonPatch\n",
    "\n",
    "# Bibliotecas Extras\n",
    "from pymodis import downmodis\n",
    "\n",
    "\"\"\"-------------------------------------------------------------\n",
    "    CONFIGURAÇÃO DOS DIRETÓRIOS DE TRABALHO\n",
    "-------------------------------------------------------------\"\"\"\n",
    "# Adquire o diretório onde o notebook está armazenado\n",
    "BASE_DIR = os.getcwd()\n",
    "# Cria o caminho para armazenar os dados, as figuras e os resultados\n",
    "DATA_DIR = os.path.join(BASE_DIR,'data')\n",
    "IMGS_DIR = os.path.join(BASE_DIR,'imgs')\n",
    "RESU_DIR = os.path.join(BASE_DIR,'output')"
   ]
  },
  {
   "cell_type": "markdown",
   "metadata": {
    "collapsed": true
   },
   "source": [
    "<p style=\"text-align: justify;\">&nbsp;&nbsp;&nbsp;&nbsp;A área de estudo corresponde ao município de Fortaleza, estado do Ceará, localizada na região do nordeste brasileiro com coordenadas geográficas variando entre 3°43′S à 3°56′S e 38°22′W à 38°32′W. Ela possui clima tropical, com verão úmido e inverno seco, e é classificada como Aw de acordo com a classificação climática de Köppen e Geiger. A sua temperatura média anual em Fortaleza é 26.3 °C e pluviosidade média anual de 1448 mm. No mês de Novembro há o registro do mês mais quente do ano e Julho é o mês com a mais baixa temperatura ao longo do ano.<p>\n",
    "\n",
    " <figure>\n",
    "  <img src=\"imgs/area/fortaleza.jpg\" alt=\"Fortaleza-CE\" width=\"800\"/>\n",
    "  <figcaption style=\"text-align: center;\">Fig 1. - Uma visão da área de Fortaleza/CE.</figcaption>\n",
    "</figure> "
   ]
  },
  {
   "cell_type": "markdown",
   "metadata": {},
   "source": [
    "<p style=\"text-align: justify;\">&nbsp;&nbsp;&nbsp;&nbsp;Neste estudo, a análise será realizada sobre uma grade de 0.4° X 0.4° que engloba a região da área do município e vizinhanças. A escolha é parcialmente porque este recorte inclui um número adequado de pixels correspondente a área urbana e cobertura predominante nos entornos do município. Os pixels correspondentes a água foram excluídos da análise. O período de análise será de janeiro de 2003 à dezembro de 2012, constituindo uma série temporal de 10 anos.</p>"
   ]
  },
  {
   "cell_type": "code",
   "execution_count": 4,
   "metadata": {
    "collapsed": true
   },
   "outputs": [],
   "source": [
    "\"\"\"-------------------------------------------------------------\n",
    "    CONFIGURAÇÃO DO RECORTE ESPACIAL\n",
    "-------------------------------------------------------------\"\"\"\n",
    "# Configuração do recorte espacial da análise\n",
    "lat_max = -3.6\n",
    "lat_min = lat_max - 0.4\n",
    "lon_min = -38.75\n",
    "lon_max = lon_min + 0.4\n",
    "\n",
    "\"\"\"-------------------------------------------------------------\n",
    "    CONFIGURAÇÃO DO RECORTE TEMPORAL\n",
    "-------------------------------------------------------------\"\"\"\n",
    "# Configuração do período temporal da análise\n",
    "# Para ilustração em sala, será usado apenas o mês 09/2003\n",
    "ano_inicio  = 2003\n",
    "ano_final   = 2003\n",
    "mes_inicio  = 9\n",
    "mes_final   = 9"
   ]
  },
  {
   "cell_type": "markdown",
   "metadata": {},
   "source": [
    "### 2.2 Dados\n",
    "\n",
    "##### (a) Dados de LST do MODIS\n",
    "\n",
    "<p style=\"text-align: justify;\">&nbsp;&nbsp;&nbsp;&nbsp;O instrumento MODIS está a bordo dos satélites Aqua e Terra. O satélite Terra adquire imagens às 10:30 e 22:30h no horário solar local, enquanto o satélite Aqua adquire imagens às 1:30 e 13:30h. Para este estudo, foram utilizados os produtos de 8-dias de LST/Emissividade do MODIS Terra/Aqua (MOD11A2 e MYD11A2, respectivamente) nas versões V006 durante o período entre 2003-2012 para caracterizar a SHUIs. A resolução da LST é de 1000m. As medidas utilizadas nesse estudo foram reamostradas para uma resolução de 500m, utilizando o método do vizinho mais próximo, e realizada uma média mensal dos valores. Apenas pixels adquiridos em dias de céu limpo foram utilizados.</p>"
   ]
  },
  {
   "cell_type": "code",
   "execution_count": 5,
   "metadata": {
    "collapsed": true
   },
   "outputs": [],
   "source": [
    "# Configuração dos satélites\n",
    "satelite = [\"terra\", \"aqua\"]\n",
    "# Período da análise\n",
    "periodo  = [\"day\" , \"night\"]"
   ]
  },
  {
   "cell_type": "markdown",
   "metadata": {},
   "source": [
    "O download dos arquivos de LST foi realizado automaticamente atráves do uso do pacote <b>PyMODIS</b>, utilizando a rotina 1: "
   ]
  },
  {
   "cell_type": "code",
   "execution_count": 24,
   "metadata": {
    "collapsed": false
   },
   "outputs": [],
   "source": [
    "\"\"\"-------------------------------------------------------------\n",
    "    ROTINA 1: Download dos arquivos de LST\n",
    "-------------------------------------------------------------\"\"\"\n",
    "\n",
    "# Parâmetros para download do dado do MODIS\n",
    "# Cena que contêm o município de Fortaleza\n",
    "tiles = \"h14v09\"           \n",
    "# Lista com o produto, o satelite e a pasta onde está localizado os arquivos no ftp\n",
    "produto = [\"MOD11A2.006\",\"MYD11A2.006\"]\n",
    "pasta = ['MOLT','MOLA']\n",
    "# Faz a leitura do login e senha armazenado em um arquivo\n",
    "with open(\"data/login_senha.txt\") as f:\n",
    "    info = f.readlines()\n",
    "f.close()\n",
    "# Armazena as informações de usuario e senha\n",
    "usuario = info[0][:-1]\n",
    "senha = info[1][:-1]\n",
    "\n",
    "# Faz o download \n",
    "for year in range(ano_inicio, ano_final + 1):\n",
    "    for month in range(mes_inicio, mes_final + 1):\n",
    "        for i in range(0, 2):\n",
    "            dia_final   = \"%04d.%02d.%02d\" % (year, month, calendar.monthrange(year, month)[1])\n",
    "            dia_inicial = \"%04d.%02d.01\" % (year, month)\n",
    "\n",
    "            # Cria o diretório para armazenar as imagens\n",
    "            destino = os.path.join(BASE_DIR,\"data/lst/%s/%04d/%02d\" % (satelite[i],year,month))\n",
    "\n",
    "            if not os.path.isdir(destino):\n",
    "                os.makedirs(destino)\n",
    "\n",
    "            # Cria uma classe de download do MODIS, conecta e faz o download\n",
    "            modis_down = downmodis.downModis(password=senha, user=usuario, destinationFolder=destino, path=pasta[i],\\\n",
    "                                         tiles=tiles, today=dia_final, enddate=dia_inicial, product=produto[i])\n",
    "            modis_down.connect()\n",
    "            modis_down.downloadsAllDay()"
   ]
  },
  {
   "cell_type": "markdown",
   "metadata": {},
   "source": [
    "##### (b) Dados de Cobertura de Solo do MODIS\n",
    "\n",
    "<p style=\"text-align: justify;\">&nbsp;&nbsp;&nbsp;&nbsp;Dados anuais de cobertura de solo também são disponibilizados como um produto do MODIS (MCD12Q1, versão V006), com resolução espacial de 500m, e serão utilizados neste trabalho para identificação de pixels urbanos e rurais. O produto utiliza uma classificação contento dezesseis tipos de cobertura de solo, conforme indicado na Tabela 2.</p>\n",
    "\n",
    "<table>\n",
    "     <caption  style=\"text-align: center;\">Tabela 2: Tipos de Cobertura de Solo</caption>\n",
    "    <thead>\n",
    "        <tr>\n",
    "            <th style=\"text-align: center;\">Número</th>\n",
    "            <th style=\"text-align: center;\">Tipo de Cobertura</th>\n",
    "        </tr>\n",
    "    </thead>\n",
    "    <tbody>\n",
    "        <tr><td style=\"text-align: center;\">0</td>\n",
    "            <td style=\"text-align: center;\">Água</td></tr>\n",
    "        <tr><td style=\"text-align: center;\">1</td>\n",
    "            <td style=\"text-align: center;\">Floresta perene composta por vegetação acicufoliada</td></tr>\n",
    "        <tr><td style=\"text-align: center;\">2</td>\n",
    "            <td style=\"text-align: center;\">Floresta perene composta por vegetação latifoliada</td></tr>\n",
    "        <tr><td style=\"text-align: center;\">3</td>\n",
    "            <td style=\"text-align: center;\">Floresta decidual composta por vegetação acicufoliada</td></tr>\n",
    "        <tr><td style=\"text-align: center;\">4</td>\n",
    "            <td style=\"text-align: center;\">Floresta decidual composta por vegetação latifoliada</td></tr>\n",
    "        <tr><td style=\"text-align: center;\">5</td>\n",
    "            <td style=\"text-align: center;\">Floresta mista</td></tr>\n",
    "        <tr><td style=\"text-align: center;\">6</td>\n",
    "            <td style=\"text-align: center;\">Área composta por arbustos cujas copas se sobrepõem</td></tr>\n",
    "        <tr><td style=\"text-align: center;\">7</td>\n",
    "            <td style=\"text-align: center;\">Área composta por arbustos cujas copas não se sobrepõem</td></tr>\n",
    "        <tr><td style=\"text-align: center;\">8</td>\n",
    "            <td style=\"text-align: center;\">Savana arborizada</td></tr>\n",
    "        <tr><td style=\"text-align: center;\">9</td>\n",
    "            <td style=\"text-align: center;\">Savana (Pastagem)</td></tr>\n",
    "        <tr><td style=\"text-align: center;\">10</td>\n",
    "            <td style=\"text-align: center;\">Vegetação herbácea</td></tr>\n",
    "        <tr><td style=\"text-align: center;\">11</td>\n",
    "            <td style=\"text-align: center;\">Áreas úmidas permanentes</td></tr>\n",
    "        <tr><td style=\"text-align: center;\">12</td>\n",
    "            <td style=\"text-align: center;\">Terras agrícolas</td></tr>\n",
    "        <tr><td style=\"text-align: center;\">13</td>\n",
    "            <td style=\"text-align: center; color: red;\">Área Urbana</td></tr>\n",
    "        <tr><td style=\"text-align: center;\">14</td>\n",
    "            <td style=\"text-align: center;\">Terras cultivadas</td></tr>\n",
    "        <tr><td style=\"text-align: center;\">15</td>\n",
    "            <td style=\"text-align: center;\">Gelo e neve</td></tr>\n",
    "        <tr><td style=\"text-align: center;\">16</td>\n",
    "            <td style=\"text-align: center;\">Vegetação estéril ou escassa (solo exposto)</td></tr>\n",
    "    </tbody>\n",
    "</table>"
   ]
  },
  {
   "cell_type": "markdown",
   "metadata": {},
   "source": [
    "O download dos arquivos de Cobertura de Solo, assim como para o LST, foi realizado automaticamente atráves do uso do pacote <b>PyMODIS</b>, utilizando a rotina 2: "
   ]
  },
  {
   "cell_type": "code",
   "execution_count": 33,
   "metadata": {
    "collapsed": false
   },
   "outputs": [],
   "source": [
    "\"\"\"-------------------------------------------------------------\n",
    "    ROTINA 2: Download dos arquivos de LC (Cobertura de Solo)\n",
    "-------------------------------------------------------------\"\"\"\n",
    "\n",
    "# Parâmetros para download do dado do MODIS\n",
    "# Cena que contêm o município de Fortaleza\n",
    "tiles = \"h14v09\"           \n",
    "# Lista com o produto, o satelite e a pasta onde está localizado os arquivos no ftp\n",
    "produto = \"MCD12Q1.006\"\n",
    "pasta = \"MOTA\"\n",
    "# Faz a leitura do login e senha armazenado em um arquivo\n",
    "with open(\"data/login_senha.txt\") as f:\n",
    "    info = f.readlines()\n",
    "f.close()\n",
    "# Armazena as informações de usuario e senha\n",
    "usuario = info[0][:-1]\n",
    "senha = info[1][:-1]\n",
    "\n",
    "# Faz o download \n",
    "for year in range(ano_inicio, ano_final + 1):\n",
    "    for month in range(mes_inicio, mes_final + 1):\n",
    "        dia_final   = \"%04d.12.31\" % (year)\n",
    "        dia_inicial = \"%04d.01.01\" % (year)\n",
    "\n",
    "        # Cria o diretório para armazenar as imagens\n",
    "        destino = os.path.join(BASE_DIR,\"data/landcover\")\n",
    "\n",
    "        if not os.path.isdir(destino):\n",
    "            os.makedirs(destino)\n",
    "\n",
    "        # Cria uma classe de download do MODIS, conecta e faz o download\n",
    "        modis_down = downmodis.downModis(password=senha, user=usuario, destinationFolder=destino, path=pasta,\\\n",
    "                                         tiles=tiles, today=dia_final, enddate=dia_inicial, product=produto)\n",
    "        modis_down.connect()\n",
    "        modis_down.downloadsAllDay()"
   ]
  },
  {
   "cell_type": "markdown",
   "metadata": {},
   "source": [
    "Para armazernar os valores de SUHI, será utilizado um DataFrame. Então, será iniciado um objeto DataFrame vazio:"
   ]
  },
  {
   "cell_type": "code",
   "execution_count": 26,
   "metadata": {
    "collapsed": false
   },
   "outputs": [
    {
     "data": {
      "text/html": [
       "<div>\n",
       "<style scoped>\n",
       "    .dataframe tbody tr th:only-of-type {\n",
       "        vertical-align: middle;\n",
       "    }\n",
       "\n",
       "    .dataframe tbody tr th {\n",
       "        vertical-align: top;\n",
       "    }\n",
       "\n",
       "    .dataframe thead th {\n",
       "        text-align: right;\n",
       "    }\n",
       "</style>\n",
       "<table border=\"1\" class=\"dataframe\">\n",
       "  <thead>\n",
       "    <tr style=\"text-align: right;\">\n",
       "      <th></th>\n",
       "      <th>YEAR</th>\n",
       "      <th>MONTH</th>\n",
       "      <th>DAY</th>\n",
       "      <th>SATELLITE</th>\n",
       "      <th>PERIOD</th>\n",
       "      <th>LC_0</th>\n",
       "      <th>LC_1</th>\n",
       "      <th>LC_2</th>\n",
       "      <th>LC_3</th>\n",
       "      <th>LC_4</th>\n",
       "      <th>...</th>\n",
       "      <th>LC_6</th>\n",
       "      <th>LC_7</th>\n",
       "      <th>LC_8</th>\n",
       "      <th>LC_9</th>\n",
       "      <th>LC_10</th>\n",
       "      <th>LC_11</th>\n",
       "      <th>LC_12</th>\n",
       "      <th>LC_14</th>\n",
       "      <th>LC_15</th>\n",
       "      <th>LC_16</th>\n",
       "    </tr>\n",
       "  </thead>\n",
       "  <tbody>\n",
       "  </tbody>\n",
       "</table>\n",
       "<p>0 rows × 21 columns</p>\n",
       "</div>"
      ],
      "text/plain": [
       "Empty DataFrame\n",
       "Columns: [YEAR, MONTH, DAY, SATELLITE, PERIOD, LC_0, LC_1, LC_2, LC_3, LC_4, LC_5, LC_6, LC_7, LC_8, LC_9, LC_10, LC_11, LC_12, LC_14, LC_15, LC_16]\n",
       "Index: []\n",
       "\n",
       "[0 rows x 21 columns]"
      ]
     },
     "execution_count": 26,
     "metadata": {},
     "output_type": "execute_result"
    }
   ],
   "source": [
    "\"\"\"-------------------------------------------------------------\n",
    "    INICIALIZAÇÃO DE DATAFRAME PARA SUHI\n",
    "-------------------------------------------------------------\"\"\"\n",
    "DICT = {'YEAR':[], 'MONTH':[], 'DAY':[], 'SATELLITE':[], 'PERIOD':[],\n",
    "        'LC_0':[], 'LC_1':[], 'LC_2':[], 'LC_3':[], 'LC_4':[], 'LC_5':[],\n",
    "        'LC_6':[], 'LC_7':[], 'LC_8':[], 'LC_9':[], 'LC_10':[],\n",
    "        'LC_11':[], 'LC_12':[], 'LC_14':[], 'LC_15':[], 'LC_16':[],\n",
    "    }\n",
    "\n",
    "SUHI = pd.DataFrame(OrderedDict(DICT))\n",
    "# Indice do primeiro registro a ser adicionado no DF\n",
    "index_df = 0\n",
    "# Imprime o DF\n",
    "SUHI"
   ]
  },
  {
   "cell_type": "markdown",
   "metadata": {},
   "source": [
    "Referências Bibliográficas\n",
    "\n",
    "Ji, Z., Li, J, Yue, J. Analysis of urban heat island ( UHI ) in the beijing metropolitan area by time-series modis data. p. 3327–3330, 2010. \n",
    "Li, H. et al. Science of the Total Environment A new method to quantify surface urban heat island intensity. Science of the Total Environment, v. 624, p. 262–272, 2018. "
   ]
  },
  {
   "cell_type": "markdown",
   "metadata": {
    "collapsed": true
   },
   "source": [
    "Teste"
   ]
  },
  {
   "cell_type": "markdown",
   "metadata": {},
   "source": [
    "### Índice de Ilha de Calor Urbano (UHI, Urban Heat Island)"
   ]
  },
  {
   "cell_type": "code",
   "execution_count": 27,
   "metadata": {
    "collapsed": true
   },
   "outputs": [],
   "source": [
    "def suhi_index(lst_array, lc_array):\n",
    "    # Parâmetros de entrada:\n",
    "    # lst_array = matriz de formato (x,y) com valores de LST\n",
    "    # lc_array = matriz de formato (x,y) com valores de LC\n",
    "    \n",
    "    # Recorta os pixels que apresenta cobertura urbana (lc = 13)\n",
    "    index_urban = lc_array == 13\n",
    "    # Calcula a média dos valores desses pixels\n",
    "    mean_lst_urban = np.nanmean(lst_array[index_urban])\n",
    "\n",
    "    # Cria uma lista para armazenar cada valor de cobertura, removendo a área urbana\n",
    "    lc_types = [x for x in range(0,17)]\n",
    "    lc_types.remove(13)\n",
    "\n",
    "    # Inicializa uma lista vazia para armazenar os valores dos indices\n",
    "    shui_value= []\n",
    "\n",
    "    # Para cada valor de cobertura do solo...\n",
    "    for lc in lc_types:\n",
    "        # ... Recorta os pixels daquela cobertura na área ...\n",
    "        index_urban = lc_array == lc\n",
    "        # ... Calcula a média da LST dos pixels ...\n",
    "        mean_lst_lc = np.nanmean(lst_array[index_urban])\n",
    "        # ... Calcula o índice SUHI ...\n",
    "        suhi = mean_lst_urban - mean_lst_lc\n",
    "        suhi_value.append(suhi)\n",
    "\n",
    "    return suhi_value"
   ]
  },
  {
   "cell_type": "markdown",
   "metadata": {},
   "source": [
    "### NORMALIZAÇÃO, NRS\n",
    "\n",
    "Utilizaremos uma escala de razão normalizada (NRS, do inglês <em>normalized ratio scale</em>), que normaliza o valor de cada pixel baseado em uma razão para poder comparar imagens de LST obtidas em diferentes períodos, mantendo simultaneamente os seus valores originais. Esta técnica foi proposta por Rasul (2017) e compara o valor real de cada pixel com a cena inteira, então compara os valores de diferentes imagens. Multiplicando o resultado por uma constante real, os valores reais de temperatura podem ser visualizados."
   ]
  },
  {
   "cell_type": "code",
   "execution_count": 28,
   "metadata": {
    "collapsed": true
   },
   "outputs": [],
   "source": [
    "def nrs_scale(original_lst):\n",
    "    # Constroi o denominador\n",
    "    square = original_lst ** 2\n",
    "    sum_square = np.nansum(square)\n",
    "    new_lst = original_lst / (sum_square ** 0.5)\n",
    "\n",
    "    N = np.nanmean(original_lst) / np.nanmean(new_lst)\n",
    "\n",
    "    output_lst = N * new_lst\n",
    "\n",
    "    return output_lst"
   ]
  },
  {
   "cell_type": "code",
   "execution_count": null,
   "metadata": {
    "collapsed": true
   },
   "outputs": [],
   "source": []
  },
  {
   "cell_type": "code",
   "execution_count": 34,
   "metadata": {
    "collapsed": false
   },
   "outputs": [
    {
     "data": {
      "text/plain": [
       "['MCD12Q1.A2003001.h14v09.006.2018054094053.hdf']"
      ]
     },
     "execution_count": 34,
     "metadata": {},
     "output_type": "execute_result"
    }
   ],
   "source": [
    "\"\"\"-------------------------------------------------------------\n",
    "    PROGRAMA PRINCIPAL\n",
    "-------------------------------------------------------------\"\"\"\n",
    "# Lê os arquivos de Cobertura de Solo e os organiza por lista\n",
    "MODIS_LC_FILES = os.listdir(path=os.path.join(DATA_DIR, 'landcover'))\n",
    "MODIS_LC_FILES.sort()\n",
    "\n",
    "COUNT_FILE = MODIS_LC_FILES.copy()\n",
    "\n",
    "for file in COUNT_FILE:\n",
    "    if file[-3:] != \"hdf\":\n",
    "        MODIS_LC_FILES.remove(file)\n",
    "\n",
    "MODIS_LC_FILES"
   ]
  },
  {
   "cell_type": "code",
   "execution_count": 37,
   "metadata": {
    "collapsed": false
   },
   "outputs": [
    {
     "name": "stdout",
     "output_type": "stream",
     "text": [
      "2003\n"
     ]
    }
   ],
   "source": [
    "for file in MODIS_LC_FILES:\n",
    "    year = int(file[9:13])\n",
    "\n",
    "    # Realiza a leitura da Cobertura de Solo\n",
    "    lc_fname = os.path.join(DATA_DIR, 'landcover', file)\n",
    "\n",
    "    # Abertura do raster de Cobertura do Solo\n",
    "    lc_raster = gdal.Open(gdal.Open(lc_fname, gdal.GA_ReadOnly).GetSubDatasets()[0][0], gdal.GA_ReadOnly)\n",
    "    # Obtẽm os valores numéricos do raster\n",
    "    lc_values = lc_raster.GetRasterBand(1).ReadAsArray()"
   ]
  },
  {
   "cell_type": "code",
   "execution_count": null,
   "metadata": {
    "collapsed": true
   },
   "outputs": [],
   "source": []
  }
 ],
 "metadata": {
  "kernelspec": {
   "display_name": "Python (geospatial)",
   "language": "python",
   "name": "geospatial"
  },
  "language_info": {
   "codemirror_mode": {
    "name": "ipython",
    "version": 3
   },
   "file_extension": ".py",
   "mimetype": "text/x-python",
   "name": "python",
   "nbconvert_exporter": "python",
   "pygments_lexer": "ipython3",
   "version": "3.6.5"
  }
 },
 "nbformat": 4,
 "nbformat_minor": 2
}
