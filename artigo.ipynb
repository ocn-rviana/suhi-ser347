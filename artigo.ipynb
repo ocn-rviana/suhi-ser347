{
 "cells": [
  {
   "cell_type": "markdown",
   "metadata": {
    "collapsed": true
   },
   "source": [
    "\n",
    "SER-347 - Introdução à Programação para Sensoriamento Remoto\n",
    "\n",
    "\n",
    "Análise do fenômeno de ilhas de calor urbano na cidade de Fortaleza/CE utilizando Python\n",
    "\n",
    "\n",
    "Nas últimas décadas, o rápido crescimento das cidades, em diversas escalas trouxeram efeitos adversos ao ambiente como um todo, sobretudo ao microclima, e diversas consequências e efeitos diretos na saúde, podem estar associados também a essa variação, afetando a população que vive em áreas densamente povoadas. Dentre tantos problemas, destacamos o chamado efeito de “ilha de calor urbana” (UHI – Urban Heat Islands Effects), que pode ser descrito como um fenômeno em que as temperaturas nas áreas urbanas são mais altas do que nas áreas rurais próximas. \n",
    "A possibilidade de estudar tal fenômeno baseado em sensoriamento remoto revelou bons resultados pois as “ilhas de calor” (UHI) que possui propriedades diurnas e sazonais evidentes, assim baseado em temperaturas de superfície terrestre (LST – Land Surface Temperature) derivados de dados NOAA AVHRR, Streutker (2002) e recentemente MODIS, descobriu-se que o a magnitude do (UHI) noturno no Texas, Houston, foi correlacionada com a temperatura da superfície rural (RST). (Ji Zhou, et.al, 2010) ; (LI et al., 2018).\n",
    "No entanto, diferenças nos resultados, foram apontadas quando o número de imagens foi aumentado nas análises. Dessa forma surge a necessidade de se utilizar grandes quantidades de informações espaço-temporais para verificar a distribuição da temperatura na superfície e seu comportamento durante certo intervalo de tempo para atender a distribuição e comportamento da temperatura, associada a áreas de vegetação, para o planejamento urbano e o desenvolvimento administrativo dos recursos naturais e sociais da população.\n",
    "Diante disso o objetivo deste trabalho é apoiado na linguagem de programação Python e ferramentas associadas de computação, iniciar um levantamento no processo de investigação das relações entre o índice de ilhas de calor (UHI) e seu comportamento na área metropolitana de Fortaleza – CE, por meio da obtenção de dados do sensor (MODIS –  Moderate Resolution Imaging Spectroradiometer) desenvolvido pela NASA  abordo dos satélites AQUA e TERRA. Na discussão da literatura foi visto que sua capacidade de resolução e associada a necessidade de obtermos dados diários, melhora significativamente a investição do fenômeno, por meio da correlação da temperatura de áreas urbanas e rurais, derivadas da série temporal Terra/Aqua MODIS data durante o período de 2003 até 2012, correlacionando dados de diuturnamente e comparando-os para obtenção da variação do efeito da ilha de calor. Sabemos que as dificuldades em realizar estudos temporais em SIG’s limitam a obtenção de resultados, desta forma a utilização de Python representa uma saída possível para gerenciar e agilizar a organização dos dados e obtenção de resultados. \n",
    "Em diversos estudos evidencia-se que obter a variação sazonal desse parâmetro de temperatura, cruzando com dados de vegetação em escala adequada pode ser uma ferramenta poderosa para a tomada de decisão no desenvolvimento territorial, podendo ser referência para políticas públicas e de administração de governos municipais e estaduais em diversas cidades, portanto, os resultados servem para a tomada de decisão e afeta diretamente na vida da população em diversos aspectos da saúde e qualidade de vida em geral. \n",
    "        \n"
   ]
  },
  {
   "cell_type": "code",
   "execution_count": null,
   "metadata": {},
   "outputs": [],
   "source": [
    "2. Metodologia"
   ]
  },
  {
   "cell_type": "code",
   "execution_count": null,
   "metadata": {},
   "outputs": [],
   "source": [
    "3. Resultados e Discussão"
   ]
  },
  {
   "cell_type": "code",
   "execution_count": null,
   "metadata": {},
   "outputs": [],
   "source": [
    "4. Considerações Finais"
   ]
  },
  {
   "cell_type": "markdown",
   "metadata": {},
   "source": [
    "Referências Bibliográficas\n",
    "\n",
    "Ji, Z., Li, J, Yue, J. Analysis of urban heat island ( UHI ) in the beijing metropolitan area by time-series modis data. p. 3327–3330, 2010. \n",
    "\n",
    "Li, H. et al. Science of the Total Environment A new method to quantify surface urban heat island intensity. Science of the Total Environment, v. 624, p. 262–272, 2018. \n",
    "\n",
    "Friedl, M. A., and Coauthors, 2002: Global land cover mapping from MODIS: Algorithms and early results. Remote Sens. Environ., 83, 287–302.\n",
    "\n",
    "Jin, M.S., 2012: Developing an Index to Measure Urban Heat Island Effect Using Satellite Land Skin Temperature and Land Cover Observations. J. Climate, 25, 6193–6201\n",
    "\n",
    "Rasul, A., Balzter, H. and Smith, C., 2017: Applying a normalized ratio scale technique to assess influences of urban expansion on land surface temperature of the semi-arid city of Erbil,International Journal of Remote Sensing, 38:13, 3960-3980"
   ]
  },
  {
   "cell_type": "code",
   "execution_count": null,
   "metadata": {},
   "outputs": [],
   "source": []
  }
 ],
 "metadata": {
  "kernelspec": {
   "display_name": "Python 3",
   "language": "python",
   "name": "python3"
  },
  "language_info": {
   "codemirror_mode": {
    "name": "ipython",
    "version": 3
   },
   "file_extension": ".py",
   "mimetype": "text/x-python",
   "name": "python",
   "nbconvert_exporter": "python",
   "pygments_lexer": "ipython3",
   "version": "3.6.5"
  }
 },
 "nbformat": 4,
 "nbformat_minor": 2
}
