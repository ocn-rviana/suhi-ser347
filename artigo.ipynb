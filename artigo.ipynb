{
 "cells": [
  {
   "cell_type": "markdown",
   "metadata": {},
   "source": [
    "<h2 style=\"text-align: left; color: SlateGray;\\\" markdown=\"3\">Pós-Graduação em Sensoriamento Remoto (Mestrado)<br>\n",
    "SER-347 - Introdução à Programação para Sensoriamento Remoto<br>\n",
    "Trabalho de Conclusão de Disciplina</h2>\n",
    "<hr style=\\\"border:2px solid #0077b9;\\\">\n",
    "<h2 style=\"text-align: center; font-variant: small-caps;\">Análise da variabilidade espaço-temporal do fenômeno de ilhas\n",
    "de calor urbano na cidade de Fortaleza/CE</h2>\n",
    "\n",
    "<p style=\"text-align: center;\">Marcelo Cardoso da Silva Bandoria¹, Rafael Duarte Viana¹</p>\n",
    "\n",
    "<p style=\"text-align: center;\">¹Instituto Nacional de Pesquisas Espaciais - INPE<br/>\n",
    "Caixa Postal 515 - 12227-010 - São José dos Campos - SP, Brasil<br/>\n",
    "{marcelo.bandoria,rafael.viana}@inpe.br</p>"
   ]
  },
  {
   "cell_type": "markdown",
   "metadata": {
    "collapsed": true
   },
   "source": [
    "Trabalho de Programação\n",
    "1. INTRODUÇÃO\n",
    "        Nas últimas décadas, os rápidos desenvolvimentos urbanos em escala global trouxeram muitos efeitos adversos ao ambiente como um todo, sobretudo ao clima, diretamente proporcional ao aumento dos estudos sobre as mudanças climáticas globais e seus efeitos na superfície, além do aspecto social e efeitos diretos na saúde da população que vive em áreas densamente povoadas. Dentre tantos problemas, destacamos neste trabalho um dos mais conhecidos chamado efeito “ilha de calor urbana” (UHI), que pode ser descrito como um fenômeno em que as temperaturas nas áreas urbanas são mais altas do que nas áreas rurais próximas. \n",
    "        A possibilidade de estudar tal fenômeno baseado em sensoriamento remoto revelou bons resultados pois as “ilhas de calor” (UHI) tem propriedades diurnas e sazonais evidentes, assim baseado em temperaturas de superfície terrestre (LST) derivados de dados NOAA AVHRR, Streutker (2002) descobriu-se que o a magnitude do (UHI) noturno no Texas, Houston, foi correlacionada com a temperatura da superfície rural (RST). (Ji Zhou, et.al, 2010)(LI et al., 2018)\n",
    "        No entanto, diferente conclusão, foi feita quando o número de imagens foi aumentado. Dessa forma surge a necessidade de se utilizar grandes quantidades de informações espaço-temporais para verificar a distribuição da temperatura na superfície e seu comportamento durante certo intervalo de tempo para atender ao planejamento urbano e o desenvolvimento administrativo dos recursos naturais e sociais da população.\n",
    "        O objetivo deste trabalho é investigar as relações entre o UHI magnitude na área metropolitana de Fortaleza e o RST próximo baseado em temperaturas de superfície terrestre (LST) derivadas da série temporal Terra/Aqua MODIS data durante o período de  XXXX, correlacionando dados de dia e noite e comparando-os para XXXX  .\n",
    "        Diversos estudos evidenciam que obter a variação sazonal desse parâmetro de temperatura, cruzando com dados de vegetação em escala adequada pode ser uma ferramenta poderosa para a tomada de decisão no desenvolvimento territorial e que afetam diretamente na vida da população em diversos aspectos da saúde e qualidade de vida em geral. \n"
   ]
  },
  {
   "cell_type": "code",
   "execution_count": null,
   "metadata": {
    "collapsed": true
   },
   "outputs": [],
   "source": []
  },
  {
   "cell_type": "code",
   "execution_count": null,
   "metadata": {
    "collapsed": true
   },
   "outputs": [],
   "source": []
  },
  {
   "cell_type": "markdown",
   "metadata": {},
   "source": [
    "Referências Bibliográficas\n",
    "\n",
    "Ji, Z., Li, J, Yue, J. Analysis of urban heat island ( UHI ) in the beijing metropolitan area by time-series modis data. p. 3327–3330, 2010. \n",
    "Li, H. et al. Science of the Total Environment A new method to quantify surface urban heat island intensity. Science of the Total Environment, v. 624, p. 262–272, 2018. "
   ]
  },
  {
   "cell_type": "code",
   "execution_count": null,
   "metadata": {
    "collapsed": true
   },
   "outputs": [],
   "source": []
  }
 ],
 "metadata": {
  "kernelspec": {
   "display_name": "Python (geospatial)",
   "language": "python",
   "name": "geospatial"
  },
  "language_info": {
   "codemirror_mode": {
    "name": "ipython",
    "version": 3
   },
   "file_extension": ".py",
   "mimetype": "text/x-python",
   "name": "python",
   "nbconvert_exporter": "python",
   "pygments_lexer": "ipython3",
   "version": "3.6.5"
  }
 },
 "nbformat": 4,
 "nbformat_minor": 2
}
