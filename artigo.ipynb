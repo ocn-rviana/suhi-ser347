{
 "cells": [
  {
   "cell_type": "markdown",
   "metadata": {},
   "source": [
    "<h2 style=\"text-align: left; color: SlateGray;\\\" markdown=\"3\">Pós-Graduação em Sensoriamento Remoto (Mestrado)<br>\n",
    "SER-347 - Introdução à Programação para Sensoriamento Remoto<br>\n",
    "Trabalho de Conclusão de Disciplina</h2>\n",
    "<hr style=\\\"border:2px solid #0077b9;\\\">\n",
    "<h2 style=\"text-align: center; font-variant: small-caps;\">Análise da variabilidade espaço-temporal do fenômeno de ilhas\n",
    "de calor urbano na cidade de Fortaleza/CE</h2>\n",
    "\n",
    "<p style=\"text-align: center;\">Marcelo Cardoso da Silva Bandoria¹, Rafael Duarte Viana¹</p>\n",
    "\n",
    "<p style=\"text-align: center;\">¹Instituto Nacional de Pesquisas Espaciais - INPE<br/>\n",
    "Caixa Postal 515 - 12227-010 - São José dos Campos - SP, Brasil<br/>\n",
    "{marcelo.bandoria,rafael.viana}@inpe.br</p>"
   ]
  },
  {
   "cell_type": "markdown",
   "metadata": {
    "collapsed": true
   },
   "source": [
    "### 1. INTRODUÇÃO\n",
    "<p style=\"text-align: justify;\">Nas últimas décadas, os rápidos desenvolvimentos urbanos em escala global trouxeram muitos efeitos adversos ao ambiente como um todo, sobretudo ao clima, diretamente proporcional ao aumento dos estudos sobre as mudanças climáticas globais e seus efeitos na superfície, além do aspecto social e efeitos diretos na saúde da população que vive em áreas densamente povoadas. Dentre tantos problemas, destacamos neste trabalho um dos mais conhecidos chamado efeito “ilha de calor urbana” (UHI), que pode ser descrito como um fenômeno em que as temperaturas nas áreas urbanas são mais altas do que nas áreas rurais próximas.</p>\n",
    "<p style=\"text-align: justify;\">&nbsp;&nbsp;&nbsp;&nbsp;A possibilidade de estudar tal fenômeno baseado em sensoriamento remoto revelou bons resultados pois as “ilhas de calor” (UHI) tem propriedades diurnas e sazonais evidentes, assim baseado em temperaturas de superfície terrestre (LST) derivados de dados NOAA AVHRR, Streutker (2002) descobriu-se que o a magnitude do (UHI) noturno no Texas, Houston, foi correlacionada com a temperatura da superfície rural (RST). (Ji Zhou, et.al, 2010)(LI et al., 2018)</p>\n",
    "<p style=\"text-align: justify;\">&nbsp;&nbsp;&nbsp;&nbsp;No entanto, diferente conclusão, foi feita quando o número de imagens foi aumentado. Dessa forma surge a necessidade de se utilizar grandes quantidades de informações espaço-temporais para verificar a distribuição da temperatura na superfície e seu comportamento durante certo intervalo de tempo para atender ao planejamento urbano e o desenvolvimento administrativo dos recursos naturais e sociais da população.</p>\n",
    "<p style=\"text-align: justify;\">&nbsp;&nbsp;&nbsp;&nbsp;O objetivo deste trabalho é investigar as relações entre o UHI magnitude na área metropolitana de Fortaleza e o RST próximo baseado em temperaturas de superfície terrestre (LST) derivadas da série temporal Terra/Aqua MODIS data durante o período de  XXXX, correlacionando dados de dia e noite e comparando-os para XXXX.</p>\n",
    "<p style=\"text-align: justify;\">&nbsp;&nbsp;&nbsp;&nbsp;Diversos estudos evidenciam que obter a variação sazonal desse parâmetro de temperatura, cruzando com dados de vegetação em escala adequada pode ser uma ferramenta poderosa para a tomada de decisão no desenvolvimento territorial e que afetam diretamente na vida da população em diversos aspectos da saúde e qualidade de vida em geral.<p>\n"
   ]
  },
  {
   "cell_type": "markdown",
   "metadata": {},
   "source": [
    "<p style=\"text-align: justify;\">&nbsp;&nbsp;&nbsp;&nbsp;Para a realização do trabalho, foram utilizados os pacotes indicados na Tabela 1.<p>\n",
    "<table>\n",
    "     <caption  style=\"text-align: center;\">Tabela 1: Módulos Python utilizados no programa</caption>\n",
    "    <thead>\n",
    "        <tr>\n",
    "            <th>Tipo da Biblioteca</th>\n",
    "            <th>Sist. Oper.</th>\n",
    "            <th>Numérica</th>\n",
    "            <th>Espaciais</th>            \n",
    "        </tr>\n",
    "    </thead>\n",
    "    <tbody>\n",
    "        <tr>\n",
    "            <td style=\"text-align: center;\">Nome do Pacote</td>\n",
    "            <td style=\"text-align: center;\">os<br />calendar</td>\n",
    "            <td style=\"text-align: center;\">Numpy<br />Pandas<br />SciPy</td>\n",
    "            <td style=\"text-align: center;\">GDAL<br />PyPROJ<br />Fiona</td>\n",
    "        </tr>\n",
    "    </tbody>\n",
    "</table>\n",
    "</span>"
   ]
  },
  {
   "cell_type": "markdown",
   "metadata": {
    "collapsed": true
   },
   "source": []
  },
  {
   "cell_type": "code",
   "execution_count": 4,
   "metadata": {
    "collapsed": false
   },
   "outputs": [
    {
     "ename": "ModuleNotFoundError",
     "evalue": "No module named 'descartes'",
     "output_type": "error",
     "traceback": [
      "\u001b[0;31m---------------------------------------------------------------------------\u001b[0m",
      "\u001b[0;31mModuleNotFoundError\u001b[0m                       Traceback (most recent call last)",
      "\u001b[0;32m<ipython-input-4-de5fd3a43892>\u001b[0m in \u001b[0;36m<module>\u001b[0;34m()\u001b[0m\n\u001b[1;32m     19\u001b[0m \u001b[0;31m# Bibliotecas Gráficas\u001b[0m\u001b[0;34m\u001b[0m\u001b[0;34m\u001b[0m\u001b[0m\n\u001b[1;32m     20\u001b[0m \u001b[0;32mimport\u001b[0m \u001b[0mmatplotlib\u001b[0m\u001b[0;34m.\u001b[0m\u001b[0mpyplot\u001b[0m \u001b[0;32mas\u001b[0m \u001b[0mplt\u001b[0m\u001b[0;34m\u001b[0m\u001b[0m\n\u001b[0;32m---> 21\u001b[0;31m \u001b[0;32mfrom\u001b[0m \u001b[0mdescartes\u001b[0m \u001b[0;32mimport\u001b[0m \u001b[0mPolygonPatch\u001b[0m\u001b[0;34m\u001b[0m\u001b[0m\n\u001b[0m",
      "\u001b[0;31mModuleNotFoundError\u001b[0m: No module named 'descartes'"
     ]
    }
   ],
   "source": [
    "\"\"\"-------------------------------------------------------------\n",
    "    IMPORTAÇÃO DE BIBLIOTECAS\n",
    "-------------------------------------------------------------\"\"\"\n",
    "# Bibliotecas OS\n",
    "import os\n",
    "import calendar\n",
    "\n",
    "# Bibliotecas Numéricas\n",
    "import numpy as np\n",
    "import pandas as pd\n",
    "from collections import OrderedDict\n",
    "from scipy.ndimage import zoom\n",
    "\n",
    "# Bibliotecas Geográficas\n",
    "from osgeo import gdal\n",
    "from pyproj import Proj, transform\n",
    "import fiona\n",
    "\n",
    "# Bibliotecas Gráficas\n",
    "import matplotlib.pyplot as plt\n",
    "from descartes import PolygonPatch"
   ]
  },
  {
   "cell_type": "markdown",
   "metadata": {},
   "source": [
    "### 2. DADOS E MÉTODOS\n",
    "\n",
    "O instrumento MODIS está a bordo dos satélites Aqua e Terra. O satélite Terra adquire imagens às 10:30 e 22:30h no horário solar local, enquanto o satélite Aqua adquire imagens às 1:30 e 13:30h. Para este estudo, foram utilizados os produtos de 8-dias de LST/emissividade do MODIS Terra/Aqua (MOD11A2 e MYD11A2, respectivamente) nas versões V006 durante o período entre 2003-2012 para caracterizar a SHUIs. A resolução da LST é de 1000m."
   ]
  },
  {
   "cell_type": "code",
   "execution_count": 1,
   "metadata": {
    "collapsed": true
   },
   "outputs": [],
   "source": [
    "\"\"\"-------------------------------------------------------------\n",
    "    CONFIGURAÇÃO DO RECORTE TEMPORAL\n",
    "-------------------------------------------------------------\"\"\"\n",
    "# Configuração do período temporal da análise\n",
    "# Para ilustração, será usado o mês 09/2003\n",
    "ano_inicio  = 2003\n",
    "ano_final   = 2003\n",
    "mes_inicio  = 9\n",
    "mes_final   = 9"
   ]
  },
  {
   "cell_type": "markdown",
   "metadata": {},
   "source": [
    "Descrição da área de trabalho"
   ]
  },
  {
   "cell_type": "code",
   "execution_count": 3,
   "metadata": {
    "collapsed": true
   },
   "outputs": [],
   "source": [
    "\"\"\"-------------------------------------------------------------\n",
    "    CONFIGURAÇÃO DO RECORTE ESPACIAL\n",
    "-------------------------------------------------------------\"\"\"\n",
    "# Configuração do recorte espacial da análise\n",
    "lat_max = -3.6\n",
    "lat_min = lat_max - 0.4\n",
    "lon_min = -38.75\n",
    "lon_max = lon_min + 0.4"
   ]
  },
  {
   "cell_type": "markdown",
   "metadata": {},
   "source": [
    "Referências Bibliográficas\n",
    "\n",
    "Ji, Z., Li, J, Yue, J. Analysis of urban heat island ( UHI ) in the beijing metropolitan area by time-series modis data. p. 3327–3330, 2010. \n",
    "Li, H. et al. Science of the Total Environment A new method to quantify surface urban heat island intensity. Science of the Total Environment, v. 624, p. 262–272, 2018. "
   ]
  },
  {
   "cell_type": "code",
   "execution_count": null,
   "metadata": {
    "collapsed": true
   },
   "outputs": [],
   "source": []
  }
 ],
 "metadata": {
  "kernelspec": {
   "display_name": "Python (geospatial)",
   "language": "python",
   "name": "geospatial"
  },
  "language_info": {
   "codemirror_mode": {
    "name": "ipython",
    "version": 3
   },
   "file_extension": ".py",
   "mimetype": "text/x-python",
   "name": "python",
   "nbconvert_exporter": "python",
   "pygments_lexer": "ipython3",
   "version": "3.6.5"
  }
 },
 "nbformat": 4,
 "nbformat_minor": 2
}
